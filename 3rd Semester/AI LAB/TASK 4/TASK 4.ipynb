{
 "cells": [
  {
   "cell_type": "markdown",
   "id": "81954e2f",
   "metadata": {},
   "source": [
    "# Luhn_Algorithm"
   ]
  },
  {
   "cell_type": "code",
   "execution_count": 18,
   "id": "4db8f9a3",
   "metadata": {},
   "outputs": [
    {
     "name": "stdout",
     "output_type": "stream",
     "text": [
      "Enter the card number: 8475476784389584\n",
      "8475476784389584 is invalid.\n"
     ]
    }
   ],
   "source": [
    "def Luhn_Algorithm(card_number):\n",
    "    digits = [int(digit) for digit in card_number]\n",
    "    check_digit = digits.pop()\n",
    "\n",
    "    total_sum = 0\n",
    "    for index in range(len(digits)):\n",
    "        if (len(digits) - index) % 2 == 0:\n",
    "            digits[index] *= 2\n",
    "            if digits[index] > 9:\n",
    "                digits[index] -= 9\n",
    "        total_sum += digits[index]\n",
    "\n",
    "    total_sum += check_digit\n",
    "\n",
    "    if total_sum % 10 == 0:\n",
    "        print(f\"{card_number} is valid.\")\n",
    "    else:\n",
    "        print(f\"{card_number} is invalid.\")\n",
    "\n",
    "card_input = input(\"Enter the card number: \")\n",
    "Luhn_Algorithm(card_input)\n"
   ]
  },
  {
   "cell_type": "markdown",
   "id": "8925aa99",
   "metadata": {},
   "source": [
    "#TASK 2"
   ]
  },
  {
   "cell_type": "code",
   "execution_count": 19,
   "id": "6717dd2f",
   "metadata": {},
   "outputs": [
    {
     "name": "stdout",
     "output_type": "stream",
     "text": [
      "Enter the stringHi ! sir My name is ZAID... My Roll number is 128!!!\n"
     ]
    },
    {
     "data": {
      "text/plain": [
       "' Hi  sir My name is ZAID My Roll number is 128'"
      ]
     },
     "execution_count": 19,
     "metadata": {},
     "output_type": "execute_result"
    }
   ],
   "source": [
    "def puntuation_remover(user_input):\n",
    "    puntuations=',!@#$%^&*()[]~|.''<>\"'\n",
    "    results =\" \" \n",
    "    for char in user_input:\n",
    "        if char not in puntuations:\n",
    "            results += char\n",
    "    return results\n",
    "\n",
    "_input_ = input(\"Enter the string\")\n",
    "\n",
    "puntuation_remover(_input_)"
   ]
  },
  {
   "cell_type": "markdown",
   "id": "61e49d09",
   "metadata": {},
   "source": [
    "#task 3"
   ]
  },
  {
   "cell_type": "code",
   "execution_count": 20,
   "id": "2fbbe6a3",
   "metadata": {},
   "outputs": [
    {
     "data": {
      "text/plain": [
       "'AI CS DS IT SE'"
      ]
     },
     "execution_count": 20,
     "metadata": {},
     "output_type": "execute_result"
    }
   ],
   "source": [
    "def text_sort(words):\n",
    "    words=words.split()\n",
    "    sorted_words=[]\n",
    "\n",
    "    while words:\n",
    "        small_words=min(words)\n",
    "        sorted_words.append(small_words)\n",
    "        words.remove(small_words)\n",
    "\n",
    "    return \" \".join(sorted_words)\n",
    "\n",
    "sent_= \"CS AI DS IT SE  \"\n",
    "\n",
    "text_sort(sent_)"
   ]
  },
  {
   "cell_type": "code",
   "execution_count": null,
   "id": "e0af92d7",
   "metadata": {},
   "outputs": [],
   "source": []
  }
 ],
 "metadata": {
  "kernelspec": {
   "display_name": "Python 3 (ipykernel)",
   "language": "python",
   "name": "python3"
  },
  "language_info": {
   "codemirror_mode": {
    "name": "ipython",
    "version": 3
   },
   "file_extension": ".py",
   "mimetype": "text/x-python",
   "name": "python",
   "nbconvert_exporter": "python",
   "pygments_lexer": "ipython3",
   "version": "3.11.5"
  }
 },
 "nbformat": 4,
 "nbformat_minor": 5
}
