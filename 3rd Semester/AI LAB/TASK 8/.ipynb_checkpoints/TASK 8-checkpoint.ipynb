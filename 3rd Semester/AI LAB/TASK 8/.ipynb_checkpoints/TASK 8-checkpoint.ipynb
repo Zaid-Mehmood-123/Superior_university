{
 "cells": [
  {
   "cell_type": "code",
   "execution_count": 4,
   "id": "06a7722b",
   "metadata": {},
   "outputs": [
    {
     "name": "stdout",
     "output_type": "stream",
     "text": [
      "The optimal value is: 14\n"
     ]
    }
   ],
   "source": [
    "import math\n",
    "\n",
    "def mini_max(depth, node_index, scores, height):\n",
    "    if depth == height:\n",
    "        return scores[node_index]\n",
    "    \n",
    "    left_score = mini_max(depth + 1, node_index * 2, scores, height)\n",
    "    right_score = mini_max(depth + 1, node_index * 2 + 1, scores, height)\n",
    "    \n",
    "    return max(left_score, right_score)\n",
    "\n",
    "scores = [10, 6, 14, 5, 2, -1, 3, 8, 7, 0, 4, 1, 12, 9, 11, -2]\n",
    "height = math.log2(len(scores))\n",
    "\n",
    "optimal_value = mini_max(0, 0, scores, int(height))\n",
    "print(\"The optimal value is:\", optimal_value)\n"
   ]
  },
  {
   "cell_type": "code",
   "execution_count": null,
   "id": "2eb68bf2",
   "metadata": {},
   "outputs": [],
   "source": []
  }
 ],
 "metadata": {
  "kernelspec": {
   "display_name": "Python 3 (ipykernel)",
   "language": "python",
   "name": "python3"
  },
  "language_info": {
   "codemirror_mode": {
    "name": "ipython",
    "version": 3
   },
   "file_extension": ".py",
   "mimetype": "text/x-python",
   "name": "python",
   "nbconvert_exporter": "python",
   "pygments_lexer": "ipython3",
   "version": "3.11.5"
  }
 },
 "nbformat": 4,
 "nbformat_minor": 5
}
