{
 "cells": [
  {
   "cell_type": "markdown",
   "id": "309543ca",
   "metadata": {},
   "source": [
    "# First mini PROJECT\n"
   ]
  },
  {
   "cell_type": "code",
   "execution_count": 2,
   "id": "330e4f60",
   "metadata": {},
   "outputs": [
    {
     "name": "stdout",
     "output_type": "stream",
     "text": [
      "Please! Enter a number: 3\n",
      "FIZZ\n",
      "Please! Enter a number: 5\n",
      "BUZZ\n",
      "Please! Enter a number: 9\n",
      "FIZZ\n",
      "Please! Enter a number: 29\n",
      "Game Over!\n",
      "Do you want to Play Again? YES/NO: no\n",
      "Good bye!!Have a Nice Day SIR!\n"
     ]
    }
   ],
   "source": [
    "def FizzBuzz(num):\n",
    "    if num % 3 == 0 and num % 5 == 0:\n",
    "        print(\"FIZZ BUZZ\")\n",
    "    elif num % 3 == 0:\n",
    "        print(\"FIZZ\")\n",
    "    elif num % 5 == 0:\n",
    "        print(\"BUZZ\")\n",
    "    else:\n",
    "        print(\"Game Over!\")\n",
    "\n",
    "flag = True\n",
    "while flag:\n",
    "    try:\n",
    "        num = int(input(\"Please! Enter a number: \"))\n",
    "    except ValueError:\n",
    "        print(\"Enter a Valid Number\")\n",
    "        continue\n",
    "        \n",
    "    FizzBuzz(num)\n",
    "    \n",
    "    if num % 3 != 0 and num % 5 != 0:\n",
    "        choice = input(\"Do you want to Play Again? YES/NO: \").strip().lower()\n",
    "        \n",
    "        if choice not in [\"yes\", \"no\"]:\n",
    "            print(\"selected option yes or no\")\n",
    "            continue\n",
    "        \n",
    "        elif choice == \"no\":\n",
    "            flag = False\n",
    "            print(\"Good bye!!Have a Nice Day SIR!\")"
   ]
  },
  {
   "cell_type": "markdown",
   "id": "483e7bbc",
   "metadata": {},
   "source": [
    "# Second Mini Project"
   ]
  },
  {
   "cell_type": "code",
   "execution_count": 1,
   "id": "54081ac0",
   "metadata": {},
   "outputs": [
    {
     "name": "stdout",
     "output_type": "stream",
     "text": [
      "Average Budget of all movies: 190500000.0 \n",
      "\n",
      "Pirates of the Caribbean: On Stranger Tides budget is $188500000.0 higher than the average budget.\n",
      "\n",
      "Avengers: Age of Ultron budget is $174500000.0 higher than the average budget.\n",
      "\n",
      "Avengers: Endgame budget is $165500000.0 higher than the average budget.\n",
      "\n",
      "Incredibles 2 budget is $9500000.0 higher than the average budget.\n",
      "\n",
      "Movies with budget higher than the average budget:\n",
      "['Pirates of the Caribbean: On Stranger Tides', 'Avengers: Age of Ultron', 'Avengers: Endgame', 'Incredibles 2']\n",
      "\n",
      "No of movies with a budget higher than the average: 4\n"
     ]
    }
   ],
   "source": [
    "movies = [\n",
    "    (\"Eternal Sunshine of the Spotless Mind\", 20000000),\n",
    "    (\"Memento\", 9000000),\n",
    "    (\"Requiem for a Dream\", 4500000),\n",
    "    (\"Pirates of the Caribbean: On Stranger Tides\", 379000000),\n",
    "    (\"Avengers: Age of Ultron\", 365000000),\n",
    "    (\"Avengers: Endgame\", 356000000),\n",
    "    (\"Incredibles 2\", 200000000)\n",
    "]\n",
    "\n",
    "def average_budget(movies):\n",
    "    total_budget = sum(budget for _, budget in movies)\n",
    "    average = total_budget / len(movies)\n",
    "    print(\"Average Budget of all movies:\", average, \"\\n\")\n",
    "    return average\n",
    "\n",
    "def check_budget(avg_budget):\n",
    "    movie_names = []\n",
    "    \n",
    "    for name, budget in movies:\n",
    "        if budget > avg_budget:\n",
    "            movie_names.append(name)\n",
    "            print(f\"{name} budget is ${budget - avg_budget} higher than the average budget.\\n\")\n",
    "        \n",
    "    print(f\"Movies with budget higher than the average budget:\\n{movie_names}\\n\")\n",
    "    print(\"No of movies with a budget higher than the average:\", len(movie_names))\n",
    "\n",
    "avg = average_budget(movies)\n",
    "check_budget(avg)\n"
   ]
  },
  {
   "cell_type": "markdown",
   "id": "6196e83f",
   "metadata": {},
   "source": []
  },
  {
   "cell_type": "code",
   "execution_count": null,
   "id": "b5049d88",
   "metadata": {},
   "outputs": [],
   "source": []
  }
 ],
 "metadata": {
  "kernelspec": {
   "display_name": "Python 3 (ipykernel)",
   "language": "python",
   "name": "python3"
  },
  "language_info": {
   "codemirror_mode": {
    "name": "ipython",
    "version": 3
   },
   "file_extension": ".py",
   "mimetype": "text/x-python",
   "name": "python",
   "nbconvert_exporter": "python",
   "pygments_lexer": "ipython3",
   "version": "3.11.5"
  }
 },
 "nbformat": 4,
 "nbformat_minor": 5
}
