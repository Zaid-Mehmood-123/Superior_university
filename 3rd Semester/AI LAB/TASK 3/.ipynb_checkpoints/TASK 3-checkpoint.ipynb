{
 "cells": [
  {
   "cell_type": "markdown",
   "id": "dfc45be6",
   "metadata": {},
   "source": [
    "# AGENT"
   ]
  },
  {
   "cell_type": "code",
   "execution_count": 26,
   "id": "77cd3e4b",
   "metadata": {},
   "outputs": [
    {
     "name": "stdout",
     "output_type": "stream",
     "text": [
      "Turning on heater in 'Living Room' (temperature: 20°C)\n",
      "Heater already off in 'Bedroom'. No action need\n",
      "Turning on heater in 'Kitchen' (temperature: 18°C)\n",
      "Heater already on in 'Living Room'. No action need\n",
      "Turning on heater in 'Bedroom' (temperature: 20°C)\n",
      "Heater already on in 'Kitchen'. No action need\n"
     ]
    }
   ],
   "source": [
    "class TemperatureAgent:\n",
    "    def __init__(self):\n",
    "        self.previous_heater_status = {}\n",
    "\n",
    "    def check_temperature(self, room_name, room_temp):\n",
    "        return room_temp\n",
    "\n",
    "    def control_heater(self, room_name, room_temp):\n",
    "        if room_name not in self.previous_heater_status:\n",
    "            self.previous_heater_status[room_name] = False\n",
    "\n",
    "        if room_temp < 22:\n",
    "            if not self.previous_heater_status[room_name]:\n",
    "                print(f\"Turning on heater in '{room_name}' (temperature: {room_temp}°C)\")\n",
    "                self.previous_heater_status[room_name] = True\n",
    "            else:\n",
    "                print(f\"Heater already on in '{room_name}'. No action need\")\n",
    "        else:\n",
    "            if self.previous_heater_status[room_name]:\n",
    "                print(f\"Turning off heater in '{room_name}' (temperature: {room_temp}°C)\")\n",
    "                self.previous_heater_status[room_name] = False\n",
    "            else:\n",
    "                print(f\"Heater already off in '{room_name}'. No action need\")\n",
    "\n",
    "room_temperatures = {\n",
    "    'Living Room': 20,\n",
    "    'Bedroom': 23,\n",
    "    'Kitchen': 18\n",
    "}\n",
    "\n",
    "agent = TemperatureAgent()\n",
    "\n",
    "for room_name, temp in room_temperatures.items():\n",
    "    sensed_temp = agent.check_temperature(room_name, temp)\n",
    "    agent.control_heater(room_name, sensed_temp)\n",
    "\n",
    "room_temperatures_update = {\n",
    "    'Living Room': 20,\n",
    "    'Bedroom': 20,\n",
    "    'Kitchen': 18\n",
    "}\n",
    "\n",
    "for room_name, temp in room_temperatures_update.items():\n",
    "    sensed_temp = agent.check_temperature(room_name, temp)\n",
    "    agent.control_heater(room_name, sensed_temp)\n"
   ]
  },
  {
   "cell_type": "code",
   "execution_count": null,
   "id": "fd602312",
   "metadata": {},
   "outputs": [],
   "source": []
  }
 ],
 "metadata": {
  "kernelspec": {
   "display_name": "Python 3 (ipykernel)",
   "language": "python",
   "name": "python3"
  },
  "language_info": {
   "codemirror_mode": {
    "name": "ipython",
    "version": 3
   },
   "file_extension": ".py",
   "mimetype": "text/x-python",
   "name": "python",
   "nbconvert_exporter": "python",
   "pygments_lexer": "ipython3",
   "version": "3.11.5"
  }
 },
 "nbformat": 4,
 "nbformat_minor": 5
}
