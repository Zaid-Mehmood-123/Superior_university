{
 "cells": [
  {
   "cell_type": "markdown",
   "id": "c22c7c15",
   "metadata": {},
   "source": [
    "# BFS without Queue & without Node"
   ]
  },
  {
   "cell_type": "code",
   "execution_count": 38,
   "id": "956d24b1",
   "metadata": {},
   "outputs": [
    {
     "name": "stdout",
     "output_type": "stream",
     "text": [
      "A B C D E F G \n",
      "congrats,,,Goal node G found!!!\n"
     ]
    }
   ],
   "source": [
    "GrapH = {\n",
    "    'A': ['B', 'C'],\n",
    "    'B': ['D', 'E'],\n",
    "    'C': ['F'],\n",
    "    'D': [],\n",
    "    'E': ['G'],\n",
    "    'F': [],\n",
    "    'G': []\n",
    "}\n",
    "\n",
    "def bfs_without(GrapH, start, goal):\n",
    "    visited = []\n",
    "    level_nodes = [start]\n",
    "    \n",
    "    while level_nodes:\n",
    "        next_level = []\n",
    "        for node in level_nodes:\n",
    "            if node not in visited:\n",
    "                print(node, end=' ')\n",
    "                visited.append(node)\n",
    "                if node == goal:\n",
    "                    print(f\"\\ncongrats,,,Goal node {goal} found!!!\")\n",
    "                    return\n",
    "                next_level.extend(GrapH[node])\n",
    "        level_nodes = next_level\n",
    "    print(f\"\\nGoal node {goal} not found!\")\n",
    "\n",
    "bfs_without(GrapH, 'A', 'G')\n"
   ]
  },
  {
   "cell_type": "markdown",
   "id": "c36f17d4",
   "metadata": {},
   "source": [
    "# BFS with Queue & with Node"
   ]
  },
  {
   "cell_type": "code",
   "execution_count": 41,
   "id": "e5d0434d",
   "metadata": {},
   "outputs": [
    {
     "name": "stdout",
     "output_type": "stream",
     "text": [
      "------breadth-first search------\n",
      "A B C D E F G "
     ]
    }
   ],
   "source": [
    "GrapH = {\n",
    "    'A': ['B', 'C'],\n",
    "    'B': ['D', 'E'],\n",
    "    'C': ['F'],\n",
    "    'D': [],\n",
    "    'E': ['G'],\n",
    "    'F': [],\n",
    "    'G': []\n",
    "}\n",
    "\n",
    "visited = [] \n",
    "queue = []    \n",
    "\n",
    "def bfs(visited, graph, node):\n",
    "    visited.append(node)\n",
    "    queue.append(node)\n",
    "    \n",
    "    while queue:\n",
    "        a = queue.pop(0)  \n",
    "        print(a, end=\" \")  \n",
    "        for neighbour in graph[a]:\n",
    "            if neighbour not in visited:\n",
    "                visited.append(neighbour)\n",
    "                queue.append(neighbour)\n",
    "\n",
    "print(\"------breadth-first search------\")\n",
    "bfs(visited, GrapH, 'A')\n"
   ]
  },
  {
   "cell_type": "code",
   "execution_count": null,
   "id": "f26b022f",
   "metadata": {},
   "outputs": [],
   "source": []
  },
  {
   "cell_type": "code",
   "execution_count": null,
   "id": "c27aa105",
   "metadata": {},
   "outputs": [],
   "source": []
  }
 ],
 "metadata": {
  "kernelspec": {
   "display_name": "Python 3 (ipykernel)",
   "language": "python",
   "name": "python3"
  },
  "language_info": {
   "codemirror_mode": {
    "name": "ipython",
    "version": 3
   },
   "file_extension": ".py",
   "mimetype": "text/x-python",
   "name": "python",
   "nbconvert_exporter": "python",
   "pygments_lexer": "ipython3",
   "version": "3.11.5"
  }
 },
 "nbformat": 4,
 "nbformat_minor": 5
}
