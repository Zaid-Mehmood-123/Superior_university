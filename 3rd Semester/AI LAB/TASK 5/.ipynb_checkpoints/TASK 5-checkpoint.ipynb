{
 "cells": [
  {
   "cell_type": "markdown",
   "id": "b717e057",
   "metadata": {},
   "source": [
    "# Task 1: DFS with the stack and node"
   ]
  },
  {
   "cell_type": "code",
   "execution_count": 57,
   "id": "5b8c51aa",
   "metadata": {},
   "outputs": [
    {
     "name": "stdout",
     "output_type": "stream",
     "text": [
      "A\n",
      "C\n",
      "F\n",
      "B\n",
      "E\n",
      "G\n",
      "Goal node is G found!\n",
      "DFS traversal complete\n"
     ]
    }
   ],
   "source": [
    "Graph = {\n",
    "    'A': ['B', 'C'],\n",
    "    'B': ['D', 'E'],\n",
    "    'C': ['F'],\n",
    "    'D': [],\n",
    "    'E': ['G'],\n",
    "    'F': [],\n",
    "    'G': []\n",
    "}\n",
    "\n",
    "def dfs_tree(graph, initial_node, goal):\n",
    "    stack = [initial_node]\n",
    "    visited = set()  \n",
    "\n",
    "    while stack:\n",
    "        node = stack.pop()\n",
    "        if node not in visited:\n",
    "            print(node)\n",
    "            visited.add(node)\n",
    "        if node == goal:\n",
    "            print(f\"Goal node is {goal} found!\")\n",
    "            return\n",
    "        for child in graph[node]:\n",
    "            if child not in visited:\n",
    "                stack.append(child)\n",
    "\n",
    "    print(\"Oops! Goal node not found\")\n",
    "\n",
    "dfs_tree(Graph, \"A\", 'G')\n",
    "print(\"DFS traversal complete\")\n",
    "\n"
   ]
  },
  {
   "cell_type": "markdown",
   "id": "615dea03",
   "metadata": {},
   "source": [
    "# Task 2: Research about \"Inorder, Preorder, Postorder\" and implement in DFS"
   ]
  },
  {
   "cell_type": "code",
   "execution_count": 58,
   "id": "3d8e106e",
   "metadata": {},
   "outputs": [],
   "source": [
    "GrapH = {\n",
    "    'A': ['B', 'C'],\n",
    "    'B': ['D', 'E'],\n",
    "    'C': ['F'],\n",
    "    'D': [],\n",
    "    'E': ['G'],\n",
    "    'F': [],\n",
    "    'G': []\n",
    "}"
   ]
  },
  {
   "cell_type": "code",
   "execution_count": 63,
   "id": "07c27539",
   "metadata": {},
   "outputs": [
    {
     "name": "stdout",
     "output_type": "stream",
     "text": [
      "------Inorder Treversal------\n",
      "DBGEAFC"
     ]
    }
   ],
   "source": [
    "def inorder(GrapH,node):\n",
    "    if node:\n",
    "        children=GrapH[node]\n",
    "        if len(children)>0:\n",
    "            inorder(GrapH,children[0])\n",
    "        print(node,end=\"\")\n",
    "        if len(children)>1:\n",
    "            inorder(GrapH,children[1])\n",
    "print(\"------Inorder Treversal------\")\n",
    "inorder(GrapH,\"A\")"
   ]
  },
  {
   "cell_type": "code",
   "execution_count": 68,
   "id": "254eb10f",
   "metadata": {},
   "outputs": [
    {
     "name": "stdout",
     "output_type": "stream",
     "text": [
      "------preorder treversal------\n",
      "A B D E G C F "
     ]
    }
   ],
   "source": [
    "def dfspreorder_traversal(GrapH,node):\n",
    "    if node:\n",
    "        print(node, end=' ')\n",
    "        for child in GrapH[node]:\n",
    "            dfspreorder_traversal(GrapH, child)\n",
    "            \n",
    "print(\"------preorder treversal------\")\n",
    "dfspreorder_traversal(Graph,\"A\")"
   ]
  },
  {
   "cell_type": "code",
   "execution_count": 74,
   "id": "38fb7210",
   "metadata": {},
   "outputs": [
    {
     "name": "stdout",
     "output_type": "stream",
     "text": [
      "------postorder treversal------\n",
      "ABDDEGGEBCFFCA"
     ]
    }
   ],
   "source": [
    "def postorder(GrapH,node):\n",
    "    if node:\n",
    "        print(node,end=\"\")\n",
    "        for child in GrapH[node]:\n",
    "            postorder(GrapH,child)\n",
    "        print(node,end=\"\")    \n",
    "print(\"------postorder treversal------\")\n",
    "postorder(GrapH,\"A\")"
   ]
  },
  {
   "cell_type": "code",
   "execution_count": null,
   "id": "b721ff1b",
   "metadata": {},
   "outputs": [],
   "source": []
  }
 ],
 "metadata": {
  "kernelspec": {
   "display_name": "Python 3 (ipykernel)",
   "language": "python",
   "name": "python3"
  },
  "language_info": {
   "codemirror_mode": {
    "name": "ipython",
    "version": 3
   },
   "file_extension": ".py",
   "mimetype": "text/x-python",
   "name": "python",
   "nbconvert_exporter": "python",
   "pygments_lexer": "ipython3",
   "version": "3.11.5"
  }
 },
 "nbformat": 4,
 "nbformat_minor": 5
}
