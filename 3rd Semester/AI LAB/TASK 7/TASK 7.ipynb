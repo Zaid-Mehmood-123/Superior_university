{
 "cells": [
  {
   "cell_type": "markdown",
   "id": "6a6f5929",
   "metadata": {},
   "source": [
    "# Code of A* Algorithm (without importing any library)"
   ]
  },
  {
   "cell_type": "code",
   "execution_count": 44,
   "id": "8b5ccbd5",
   "metadata": {},
   "outputs": [
    {
     "name": "stdout",
     "output_type": "stream",
     "text": [
      "Path found: ['A', 'B', 'D', 'F', 'G']\n"
     ]
    }
   ],
   "source": [
    "graph = {\n",
    "    'A': {'B': 1, 'C': 3},\n",
    "    'B': {'A': 1, 'D': 1, 'E': 5},\n",
    "    'C': {'A': 3, 'E': 2},\n",
    "    'D': {'B': 1, 'E': 1, 'F': 2},\n",
    "    'E': {'B': 5, 'C': 2, 'D': 1, 'F': 2},\n",
    "    'F': {'D': 2, 'E': 2, 'G': 1},\n",
    "    'G': {'F': 1}\n",
    "}\n",
    "\n",
    "def get_neighbors(node):\n",
    "    if node in graph:\n",
    "        return graph[node].items()\n",
    "    else:\n",
    "        return None\n",
    "\n",
    "def heuristic_cost(current_node):\n",
    "    h_values = {\n",
    "        'A': 7,\n",
    "        'B': 6,\n",
    "        'C': 5,\n",
    "        'D': 4,\n",
    "        'E': 3,\n",
    "        'F': 1,\n",
    "        'G': 0\n",
    "    }\n",
    "    return h_values[current_node]\n",
    "\n",
    "def a_star_algorithm(start_node, goal_node):\n",
    "    open_set = [start_node]\n",
    "    closed_set = []\n",
    "    g_costs = {}\n",
    "    parents_map = {}\n",
    "    g_costs[start_node] = 0\n",
    "    parents_map[start_node] = start_node\n",
    "\n",
    "    while len(open_set) > 0:\n",
    "        current_node = None\n",
    "        for candidate_node in open_set:\n",
    "            if current_node is None or g_costs[candidate_node] + heuristic_cost(candidate_node) < g_costs[current_node] + heuristic_cost(current_node):\n",
    "                current_node = candidate_node\n",
    "        if current_node == goal_node:\n",
    "            path = []\n",
    "            while parents_map[current_node] != current_node:\n",
    "                path.append(current_node)\n",
    "                current_node = parents_map[current_node]\n",
    "            path.append(start_node)\n",
    "            path.reverse()\n",
    "            return path\n",
    "\n",
    "        for (neighbor_node, weight) in get_neighbors(current_node):\n",
    "            if neighbor_node not in open_set and neighbor_node not in closed_set:\n",
    "                open_set.append(neighbor_node)\n",
    "                parents_map[neighbor_node] = current_node\n",
    "                g_costs[neighbor_node] = g_costs[current_node] + weight\n",
    "            else:\n",
    "                if g_costs[neighbor_node] > g_costs[current_node] + weight:\n",
    "                    g_costs[neighbor_node] = g_costs[current_node] + weight\n",
    "                    parents_map[neighbor_node] = current_node\n",
    "                    if neighbor_node in closed_set:\n",
    "                        closed_set.remove(neighbor_node)\n",
    "                        open_set.append(neighbor_node)\n",
    "\n",
    "        open_set.remove(current_node)\n",
    "        closed_set.append(current_node)\n",
    "    return None\n",
    "\n",
    "path = a_star_algorithm('A', 'G')\n",
    "print(\"Path found:\", path)\n"
   ]
  },
  {
   "cell_type": "code",
   "execution_count": null,
   "id": "9cedcd9f",
   "metadata": {},
   "outputs": [],
   "source": []
  }
 ],
 "metadata": {
  "kernelspec": {
   "display_name": "Python 3 (ipykernel)",
   "language": "python",
   "name": "python3"
  },
  "language_info": {
   "codemirror_mode": {
    "name": "ipython",
    "version": 3
   },
   "file_extension": ".py",
   "mimetype": "text/x-python",
   "name": "python",
   "nbconvert_exporter": "python",
   "pygments_lexer": "ipython3",
   "version": "3.11.5"
  }
 },
 "nbformat": 4,
 "nbformat_minor": 5
}
